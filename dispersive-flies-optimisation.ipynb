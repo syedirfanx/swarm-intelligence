{
 "cells": [
  {
   "cell_type": "markdown",
   "id": "da0a909e",
   "metadata": {},
   "source": [
    "## Import Libraries"
   ]
  },
  {
   "cell_type": "code",
   "execution_count": 94,
   "id": "9264887e",
   "metadata": {},
   "outputs": [],
   "source": [
    "import pandas as pd\n",
    "from sklearn.model_selection import train_test_split "
   ]
  },
  {
   "cell_type": "markdown",
   "id": "227a65e2",
   "metadata": {},
   "source": [
    "## Load Dataset"
   ]
  },
  {
   "cell_type": "code",
   "execution_count": 95,
   "id": "7b125d9f",
   "metadata": {},
   "outputs": [],
   "source": [
    "data = pd.read_csv('data/Swarm_Behaviour.csv')"
   ]
  },
  {
   "cell_type": "code",
   "execution_count": 96,
   "id": "a5b16487",
   "metadata": {},
   "outputs": [
    {
     "data": {
      "text/plain": [
       "x1                 0\n",
       "y1                 0\n",
       "xVel1              0\n",
       "yVel1              0\n",
       "xA1                0\n",
       "                  ..\n",
       "xC200              0\n",
       "yC200              0\n",
       "nAC200             0\n",
       "nS200              0\n",
       "Swarm_Behaviour    0\n",
       "Length: 2401, dtype: int64"
      ]
     },
     "execution_count": 96,
     "metadata": {},
     "output_type": "execute_result"
    }
   ],
   "source": [
    "data.isnull().sum()"
   ]
  },
  {
   "cell_type": "code",
   "execution_count": 93,
   "id": "a612d6ed",
   "metadata": {},
   "outputs": [],
   "source": [
    "data.fillna(0, inplace = True)"
   ]
  },
  {
   "cell_type": "code",
   "execution_count": 101,
   "id": "e3aae605",
   "metadata": {},
   "outputs": [
    {
     "data": {
      "text/html": [
       "<div>\n",
       "<style scoped>\n",
       "    .dataframe tbody tr th:only-of-type {\n",
       "        vertical-align: middle;\n",
       "    }\n",
       "\n",
       "    .dataframe tbody tr th {\n",
       "        vertical-align: top;\n",
       "    }\n",
       "\n",
       "    .dataframe thead th {\n",
       "        text-align: right;\n",
       "    }\n",
       "</style>\n",
       "<table border=\"1\" class=\"dataframe\">\n",
       "  <thead>\n",
       "    <tr style=\"text-align: right;\">\n",
       "      <th></th>\n",
       "      <th>x1</th>\n",
       "      <th>y1</th>\n",
       "      <th>xVel1</th>\n",
       "      <th>yVel1</th>\n",
       "      <th>xA1</th>\n",
       "      <th>yA1</th>\n",
       "      <th>xS1</th>\n",
       "      <th>yS1</th>\n",
       "      <th>xC1</th>\n",
       "      <th>yC1</th>\n",
       "      <th>...</th>\n",
       "      <th>yVel200</th>\n",
       "      <th>xA200</th>\n",
       "      <th>yA200</th>\n",
       "      <th>xS200</th>\n",
       "      <th>yS200</th>\n",
       "      <th>xC200</th>\n",
       "      <th>yC200</th>\n",
       "      <th>nAC200</th>\n",
       "      <th>nS200</th>\n",
       "      <th>Swarm_Behaviour</th>\n",
       "    </tr>\n",
       "  </thead>\n",
       "  <tbody>\n",
       "    <tr>\n",
       "      <th>0</th>\n",
       "      <td>562.05</td>\n",
       "      <td>-0.62</td>\n",
       "      <td>-10.70</td>\n",
       "      <td>-4.33</td>\n",
       "      <td>0.00</td>\n",
       "      <td>0.00</td>\n",
       "      <td>0.0</td>\n",
       "      <td>0.0</td>\n",
       "      <td>0.00</td>\n",
       "      <td>0.00</td>\n",
       "      <td>...</td>\n",
       "      <td>-15.15</td>\n",
       "      <td>0.00</td>\n",
       "      <td>0.00</td>\n",
       "      <td>0.00</td>\n",
       "      <td>0.00</td>\n",
       "      <td>0.00</td>\n",
       "      <td>0.0</td>\n",
       "      <td>28</td>\n",
       "      <td>0</td>\n",
       "      <td>0.0</td>\n",
       "    </tr>\n",
       "    <tr>\n",
       "      <th>1</th>\n",
       "      <td>175.66</td>\n",
       "      <td>-57.09</td>\n",
       "      <td>2.31</td>\n",
       "      <td>-2.67</td>\n",
       "      <td>0.00</td>\n",
       "      <td>0.00</td>\n",
       "      <td>0.0</td>\n",
       "      <td>0.0</td>\n",
       "      <td>0.00</td>\n",
       "      <td>0.00</td>\n",
       "      <td>...</td>\n",
       "      <td>-3.48</td>\n",
       "      <td>0.00</td>\n",
       "      <td>0.00</td>\n",
       "      <td>0.00</td>\n",
       "      <td>0.00</td>\n",
       "      <td>0.00</td>\n",
       "      <td>0.0</td>\n",
       "      <td>4</td>\n",
       "      <td>0</td>\n",
       "      <td>0.0</td>\n",
       "    </tr>\n",
       "    <tr>\n",
       "      <th>2</th>\n",
       "      <td>200.16</td>\n",
       "      <td>-320.07</td>\n",
       "      <td>4.01</td>\n",
       "      <td>-6.37</td>\n",
       "      <td>0.00</td>\n",
       "      <td>0.00</td>\n",
       "      <td>0.0</td>\n",
       "      <td>0.0</td>\n",
       "      <td>0.18</td>\n",
       "      <td>-0.26</td>\n",
       "      <td>...</td>\n",
       "      <td>-9.38</td>\n",
       "      <td>0.00</td>\n",
       "      <td>0.00</td>\n",
       "      <td>0.00</td>\n",
       "      <td>0.00</td>\n",
       "      <td>-0.11</td>\n",
       "      <td>-0.3</td>\n",
       "      <td>15</td>\n",
       "      <td>1</td>\n",
       "      <td>0.0</td>\n",
       "    </tr>\n",
       "    <tr>\n",
       "      <th>3</th>\n",
       "      <td>316.99</td>\n",
       "      <td>-906.84</td>\n",
       "      <td>0.85</td>\n",
       "      <td>9.17</td>\n",
       "      <td>-0.17</td>\n",
       "      <td>1.03</td>\n",
       "      <td>0.0</td>\n",
       "      <td>0.0</td>\n",
       "      <td>0.00</td>\n",
       "      <td>0.00</td>\n",
       "      <td>...</td>\n",
       "      <td>10.39</td>\n",
       "      <td>-0.26</td>\n",
       "      <td>1.01</td>\n",
       "      <td>0.00</td>\n",
       "      <td>0.00</td>\n",
       "      <td>0.00</td>\n",
       "      <td>0.0</td>\n",
       "      <td>16</td>\n",
       "      <td>0</td>\n",
       "      <td>0.0</td>\n",
       "    </tr>\n",
       "    <tr>\n",
       "      <th>4</th>\n",
       "      <td>1277.68</td>\n",
       "      <td>908.54</td>\n",
       "      <td>-2.02</td>\n",
       "      <td>8.23</td>\n",
       "      <td>-1.00</td>\n",
       "      <td>1.00</td>\n",
       "      <td>0.0</td>\n",
       "      <td>0.0</td>\n",
       "      <td>0.00</td>\n",
       "      <td>0.00</td>\n",
       "      <td>...</td>\n",
       "      <td>13.91</td>\n",
       "      <td>-1.00</td>\n",
       "      <td>0.00</td>\n",
       "      <td>3.21</td>\n",
       "      <td>15.67</td>\n",
       "      <td>0.00</td>\n",
       "      <td>0.0</td>\n",
       "      <td>12</td>\n",
       "      <td>0</td>\n",
       "      <td>0.0</td>\n",
       "    </tr>\n",
       "  </tbody>\n",
       "</table>\n",
       "<p>5 rows × 2401 columns</p>\n",
       "</div>"
      ],
      "text/plain": [
       "        x1      y1  xVel1  yVel1   xA1   yA1  xS1  yS1   xC1   yC1  ...  \\\n",
       "0   562.05   -0.62 -10.70  -4.33  0.00  0.00  0.0  0.0  0.00  0.00  ...   \n",
       "1   175.66  -57.09   2.31  -2.67  0.00  0.00  0.0  0.0  0.00  0.00  ...   \n",
       "2   200.16 -320.07   4.01  -6.37  0.00  0.00  0.0  0.0  0.18 -0.26  ...   \n",
       "3   316.99 -906.84   0.85   9.17 -0.17  1.03  0.0  0.0  0.00  0.00  ...   \n",
       "4  1277.68  908.54  -2.02   8.23 -1.00  1.00  0.0  0.0  0.00  0.00  ...   \n",
       "\n",
       "   yVel200  xA200  yA200  xS200  yS200  xC200  yC200  nAC200  nS200  \\\n",
       "0   -15.15   0.00   0.00   0.00   0.00   0.00    0.0      28      0   \n",
       "1    -3.48   0.00   0.00   0.00   0.00   0.00    0.0       4      0   \n",
       "2    -9.38   0.00   0.00   0.00   0.00  -0.11   -0.3      15      1   \n",
       "3    10.39  -0.26   1.01   0.00   0.00   0.00    0.0      16      0   \n",
       "4    13.91  -1.00   0.00   3.21  15.67   0.00    0.0      12      0   \n",
       "\n",
       "   Swarm_Behaviour  \n",
       "0              0.0  \n",
       "1              0.0  \n",
       "2              0.0  \n",
       "3              0.0  \n",
       "4              0.0  \n",
       "\n",
       "[5 rows x 2401 columns]"
      ]
     },
     "execution_count": 101,
     "metadata": {},
     "output_type": "execute_result"
    }
   ],
   "source": [
    "data.head()"
   ]
  },
  {
   "cell_type": "code",
   "execution_count": 99,
   "id": "ef66cd33",
   "metadata": {},
   "outputs": [
    {
     "data": {
      "text/plain": [
       "count    23309.000000\n",
       "mean         0.341242\n",
       "std          0.474136\n",
       "min          0.000000\n",
       "25%          0.000000\n",
       "50%          0.000000\n",
       "75%          1.000000\n",
       "max          1.000000\n",
       "Name: Swarm_Behaviour, dtype: float64"
      ]
     },
     "execution_count": 99,
     "metadata": {},
     "output_type": "execute_result"
    }
   ],
   "source": [
    "data['Swarm_Behaviour'].describe()"
   ]
  },
  {
   "cell_type": "markdown",
   "id": "85fb4274",
   "metadata": {},
   "source": [
    "## Define Target and Feature Variables"
   ]
  },
  {
   "cell_type": "code",
   "execution_count": 103,
   "id": "3bd5305c",
   "metadata": {},
   "outputs": [
    {
     "data": {
      "text/plain": [
       "array([0., 0., 0., ..., 0., 0., 0.])"
      ]
     },
     "execution_count": 103,
     "metadata": {},
     "output_type": "execute_result"
    }
   ],
   "source": [
    "#feature variables\n",
    "X = data.drop(['Swarm_Behaviour'], axis=1).values\n",
    "X\n",
    "\n",
    "sc = StandardScaler()\n",
    "X = sc.fit_transform(X)\n",
    "\n",
    "#target variable\n",
    "y = data['Swarm_Behaviour'].values\n",
    "y"
   ]
  },
  {
   "cell_type": "markdown",
   "id": "af2a6399",
   "metadata": {},
   "source": [
    "## Standard Scaler"
   ]
  },
  {
   "cell_type": "code",
   "execution_count": 104,
   "id": "5ce3f3d8",
   "metadata": {},
   "outputs": [],
   "source": [
    "from sklearn.preprocessing import StandardScaler"
   ]
  },
  {
   "cell_type": "markdown",
   "id": "13f30976",
   "metadata": {},
   "source": [
    "## Train-Test Split"
   ]
  },
  {
   "cell_type": "code",
   "execution_count": 105,
   "id": "cd131fea",
   "metadata": {},
   "outputs": [],
   "source": [
    "X_train, X_test, y_train, y_test = train_test_split(X, y, test_size=0.20)"
   ]
  },
  {
   "cell_type": "code",
   "execution_count": 106,
   "id": "8b2f7f5c",
   "metadata": {},
   "outputs": [
    {
     "data": {
      "text/plain": [
       "(18647, 2400)"
      ]
     },
     "execution_count": 106,
     "metadata": {},
     "output_type": "execute_result"
    }
   ],
   "source": [
    "X_train.shape"
   ]
  },
  {
   "cell_type": "markdown",
   "id": "aaa177d4",
   "metadata": {},
   "source": [
    "## Logistic Regression"
   ]
  },
  {
   "cell_type": "code",
   "execution_count": 108,
   "id": "43c7f170",
   "metadata": {},
   "outputs": [
    {
     "data": {
      "text/plain": [
       "0.868940368940369"
      ]
     },
     "execution_count": 108,
     "metadata": {},
     "output_type": "execute_result"
    }
   ],
   "source": [
    "from sklearn.linear_model import LogisticRegression\n",
    "from sklearn.metrics import accuracy_score\n",
    "\n",
    "\n",
    "lr = LogisticRegression(solver='lbfgs', max_iter=10000)\n",
    "lr.fit(X_train, y_train)\n",
    "LogisticRegression()\n",
    "y_pred = lr.predict(X_test)\n",
    "\n",
    "accuracy_score(y_pred, y_test)"
   ]
  },
  {
   "cell_type": "markdown",
   "id": "fc4dc4df",
   "metadata": {},
   "source": [
    "## DFO Algorithm"
   ]
  },
  {
   "cell_type": "code",
   "execution_count": null,
   "id": "6e75633b",
   "metadata": {
    "scrolled": false
   },
   "outputs": [
    {
     "name": "stdout",
     "output_type": "stream",
     "text": [
      "Iteration: 0 \tBest fly index: 10207 \tFitness value: 719.007938324525\n",
      "Iteration: 10 \tBest fly index: 7335 \tFitness value: 501.9478362488423\n",
      "Iteration: 20 \tBest fly index: 15337 \tFitness value: 492.2800668729308\n",
      "Iteration: 30 \tBest fly index: 163 \tFitness value: 489.19188242871184\n",
      "Iteration: 40 \tBest fly index: 162 \tFitness value: 489.14886684187337\n",
      "Iteration: 50 \tBest fly index: 163 \tFitness value: 488.7702118640765\n",
      "Iteration: 60 \tBest fly index: 12723 \tFitness value: 485.1317763568461\n",
      "Iteration: 70 \tBest fly index: 12723 \tFitness value: 485.1317763568461\n"
     ]
    }
   ],
   "source": [
    "import numpy as np\n",
    "\n",
    "# FITNESS FUNCTION (SPHERE FUNCTION)\n",
    "def f(x): # x IS A VECTOR REPRESENTING ONE FLY\n",
    "    sum = 0.0\n",
    "    for i in range(len(x)):\n",
    "        sum = sum + np.power(x[i],2)\n",
    "    return sum\n",
    "\n",
    "N = X_train.shape[0] # POPULATION SIZE\n",
    "D = X_train.shape[1] # DIMENSIONALITY \n",
    "delta = 0.001 # DISTURBANCE THRESHOLD \n",
    "maxIterations = 100 # ITERATIONS ALLOWED\n",
    "lowerB = [-5.12]*D # LOWER BOUND (IN ALL DIMENSIONS)\n",
    "upperB = [ 5.12]*D # UPPER BOUND (IN ALL DIMENSIONS)\n",
    "\n",
    "# INITIALISATION PHASE\n",
    "A = X_train # EMPTY FLIES ARRAY OF SIZE: (N,D)\n",
    "fitness = [None]*N  # EMPTY FITNESS ARRAY OF SIZE N\n",
    "\n",
    "# INITIALISE FLIES WITHIN BOUNDS\n",
    "# for i in range(N):\n",
    "#     for d in range(D):\n",
    "#         X[i,d] = np.random.uniform(lowerB[d], upperB[d])\n",
    "\n",
    "# MAIN DFO LOOP\n",
    "for itr in range (maxIterations):\n",
    "    for i in range(N): # EVALUATION\n",
    "        fitness[i] = f(A[i,])\n",
    "    s = np.argmin(fitness) # FIND BEST FLY\n",
    "\n",
    "    if (itr%10 == 0): # PRINT BEST FLY EVERY 100 ITERATIONS\n",
    "        print (\"Iteration:\", itr, \"\\tBest fly index:\", s, \n",
    "               \"\\tFitness value:\", fitness[s])\n",
    "\n",
    "    # TAKE EACH FLY INDIVIDUALLY \n",
    "    for i in range(N): \n",
    "        if i == s: continue # ELITIST STRATEGY\n",
    "\n",
    "        # FIND BEST NEIGHBOUR\n",
    "        left = (i-1)%N\n",
    "        right = (i+1)%N\n",
    "        bNeighbour = right if fitness[right]<fitness[left] else left\n",
    "\n",
    "        for d in range(D): # UPDATE EACH DIMENSION SEPARATELY \n",
    "            if (np.random.rand() < delta):\n",
    "                A[i,d] = np.random.uniform(lowerB[d], upperB[d])\n",
    "                continue;\n",
    "\n",
    "            u = np.random.rand()\n",
    "            A[i,d] = A[bNeighbour,d] + u*(A[s,d] - A[i,d])\n",
    "\n",
    "            # OUT OF BOUND CONTROL\n",
    "            if A[i,d] < lowerB[d] or A[i,d] > upperB[d]:\n",
    "                A[i,d] = np.random.uniform(lowerB[d], upperB[d])\n",
    "\n",
    "for i in range(N): fitness[i] = f(A[i,]) # EVALUATION\n",
    "s = np.argmin(fitness) # FIND BEST FLY\n",
    "\n",
    "print(\"\\nFinal best fitness:\\t\", fitness[s])\n",
    "print(\"\\nBest fly position:\\n\",  A[s,])"
   ]
  },
  {
   "cell_type": "code",
   "execution_count": 66,
   "id": "1bca54e7",
   "metadata": {},
   "outputs": [
    {
     "data": {
      "text/plain": [
       "55.33182535516758"
      ]
     },
     "execution_count": 66,
     "metadata": {},
     "output_type": "execute_result"
    }
   ],
   "source": [
    "fitness[s]"
   ]
  },
  {
   "cell_type": "code",
   "execution_count": 67,
   "id": "bbcac9ff",
   "metadata": {},
   "outputs": [
    {
     "data": {
      "text/plain": [
       "1253"
      ]
     },
     "execution_count": 67,
     "metadata": {},
     "output_type": "execute_result"
    }
   ],
   "source": [
    "len(fitness)"
   ]
  },
  {
   "cell_type": "code",
   "execution_count": 68,
   "id": "20825f2b",
   "metadata": {},
   "outputs": [
    {
     "data": {
      "text/plain": [
       "1253"
      ]
     },
     "execution_count": 68,
     "metadata": {},
     "output_type": "execute_result"
    }
   ],
   "source": [
    "X_train.shape[0]"
   ]
  },
  {
   "cell_type": "code",
   "execution_count": 69,
   "id": "ed52ca73",
   "metadata": {},
   "outputs": [
    {
     "data": {
      "text/plain": [
       "(590,)"
      ]
     },
     "execution_count": 69,
     "metadata": {},
     "output_type": "execute_result"
    }
   ],
   "source": [
    "A[s,].shape"
   ]
  },
  {
   "cell_type": "code",
   "execution_count": 70,
   "id": "22c27f09",
   "metadata": {},
   "outputs": [],
   "source": [
    "dim = np.size(X_train, 1)"
   ]
  },
  {
   "cell_type": "code",
   "execution_count": 71,
   "id": "ad679d05",
   "metadata": {},
   "outputs": [
    {
     "data": {
      "text/plain": [
       "590"
      ]
     },
     "execution_count": 71,
     "metadata": {},
     "output_type": "execute_result"
    }
   ],
   "source": [
    "dim"
   ]
  },
  {
   "cell_type": "code",
   "execution_count": 72,
   "id": "53d01c87",
   "metadata": {},
   "outputs": [],
   "source": [
    "def binary_conversion(X, thres, N, dim):\n",
    "    Xbin = np.zeros([N, dim], dtype='int')\n",
    "    for i in range(N):\n",
    "        for d in range(dim):\n",
    "            if X[i,d] > thres:\n",
    "                Xbin[i,d] = 1\n",
    "            else:\n",
    "                Xbin[i,d] = 0\n",
    "    \n",
    "    return Xbin"
   ]
  },
  {
   "cell_type": "code",
   "execution_count": 73,
   "id": "1bee662a",
   "metadata": {},
   "outputs": [],
   "source": [
    "def Fun(xtrain, ytrain, x):\n",
    "    # parameters\n",
    "    cost = 0\n",
    "    alpha = 0.99\n",
    "    beta = 1 - alpha\n",
    "    # original feature size\n",
    "    max_feat = len(x)\n",
    "    # Number of selected features\n",
    "    num_feat = np.sum(x == 1)\n",
    "    # Solve if no feature selected\n",
    "    if num_feat == 0:\n",
    "        cost = 1\n",
    "    else:\n",
    "        cost = 0\n",
    "    \n",
    "    return cost\n"
   ]
  },
  {
   "cell_type": "code",
   "execution_count": 74,
   "id": "acccd1df",
   "metadata": {},
   "outputs": [],
   "source": [
    "\n",
    "fit   = np.zeros([N, 1], dtype='float')\n",
    "Xgb   = np.zeros([1, dim], dtype='float')\n",
    "fitG  = float('inf')\n",
    "Xpb   = np.zeros([N, dim], dtype='float')\n",
    "fitP  = float('inf') * np.ones([N, 1], dtype='float')\n",
    "curve = np.zeros([1, maxIterations], dtype='float') \n",
    "t     = 0"
   ]
  },
  {
   "cell_type": "code",
   "execution_count": 75,
   "id": "64534078",
   "metadata": {},
   "outputs": [
    {
     "data": {
      "text/plain": [
       "(1253, 1)"
      ]
     },
     "execution_count": 75,
     "metadata": {},
     "output_type": "execute_result"
    }
   ],
   "source": [
    "new_arr = []\n",
    "for i in range(len(fitness)):\n",
    "    new_arr.append([fitness[i]])\n",
    "\n",
    "z_fitness = np.array(new_arr)\n",
    "z_fitness.shape"
   ]
  },
  {
   "cell_type": "code",
   "execution_count": 76,
   "id": "8a427a13",
   "metadata": {},
   "outputs": [],
   "source": [
    "thres = 0.5"
   ]
  },
  {
   "cell_type": "code",
   "execution_count": 77,
   "id": "a61fd7df",
   "metadata": {},
   "outputs": [],
   "source": [
    "while t < maxIterations:\n",
    "    # Binary conversion\n",
    "    Xbin = binary_conversion(X, thres, N, dim)\n",
    "\n",
    "    # Fitness\n",
    "    for i in range(N):\n",
    "        fit[i,0] = z_fitness[i,0]\n",
    "        if fit[i,0] < fitP[i,0]:\n",
    "            Xpb[i,:]  = X[i,:]\n",
    "            fitP[i,0] = fit[i,0]\n",
    "        if fitP[i,0] < fitG:\n",
    "            Xgb[0,:]  = Xpb[i,:]\n",
    "            fitG      = fitP[i,0]\n",
    "#     for d in range(D): # UPDATE EACH DIMENSION SEPARATELY \n",
    "#         if (np.random.rand() < delta):\n",
    "#             X[i,d] = np.random.uniform(lowerB[d], upperB[d])\n",
    "#             continue;\n",
    "\n",
    "#         u = np.random.rand()\n",
    "#         X[i,d] = X[bNeighbour,d] + u*(X[s,d] - X[i,d])\n",
    "\n",
    "#         # OUT OF BOUND CONTROL\n",
    "#         if X[i,d] < lowerB[d] or X[i,d] > upperB[d]:\n",
    "#             X[i,d] = np.random.uniform(lowerB[d], upperB[d])\n",
    "    t += 1"
   ]
  },
  {
   "cell_type": "code",
   "execution_count": 78,
   "id": "1f9e697e",
   "metadata": {},
   "outputs": [
    {
     "data": {
      "text/plain": [
       "1253"
      ]
     },
     "execution_count": 78,
     "metadata": {},
     "output_type": "execute_result"
    }
   ],
   "source": [
    "len(fitness)"
   ]
  },
  {
   "cell_type": "code",
   "execution_count": 79,
   "id": "444db2ae",
   "metadata": {},
   "outputs": [
    {
     "data": {
      "text/plain": [
       "120.37401821820235"
      ]
     },
     "execution_count": 79,
     "metadata": {},
     "output_type": "execute_result"
    }
   ],
   "source": [
    "fit[i,0]"
   ]
  },
  {
   "cell_type": "code",
   "execution_count": 80,
   "id": "05a427f0",
   "metadata": {},
   "outputs": [
    {
     "data": {
      "text/plain": [
       "array([[ 0.13020517, -0.3725489 , -0.21266106, -0.4606115 , -0.06023932,\n",
       "         0.09494635,  0.56809714,  0.26335882, -0.41903682, -1.24224413,\n",
       "        -0.45684648,  0.07315341, -0.18449544,  0.        ,  0.88929482,\n",
       "        -0.21331804,  0.43523039,  0.27448503, -0.27168226,  0.11679263,\n",
       "        -0.80412219, -0.20762563, -0.23807269, -0.05074505, -0.2958806 ,\n",
       "         0.67205534,  0.20091175,  0.57160983,  1.15658569, -0.49784617,\n",
       "         0.07973527, -0.37519268, -0.58298538, -0.04819046, -0.18718787,\n",
       "        -0.17034609,  0.22665083, -0.15832674,  0.0967582 , -0.24605976,\n",
       "         0.53174385,  0.03923908,  0.02526993, -0.44754238,  0.7274168 ,\n",
       "        -1.40004547, -0.93609401,  1.05711763,  1.29601137,  0.02526993,\n",
       "        -0.52068902,  1.05102779,  0.        , -0.07661556, -0.10016968,\n",
       "         0.04862659,  0.16726831,  0.07296464,  0.55989579,  0.05279572,\n",
       "        -0.23774758,  0.30893176, -0.7085948 ,  0.1209418 , -0.75713361,\n",
       "        -0.46099197, -0.33518447, -0.05109127,  0.42171491,  0.0619975 ,\n",
       "        -0.23162588, -1.12183122,  0.90541819,  0.99650557, -0.02526993,\n",
       "         0.23485541,  0.00725322,  2.60315234,  0.05121447, -0.92168221,\n",
       "         0.61669462,  1.17829454, -0.0296749 , -0.52080221,  0.31718415,\n",
       "        -0.41036432, -0.00459642,  0.25535443,  1.44761627, -0.27776086,\n",
       "         0.46474315, -0.05635698, -1.33403961, -1.38349199,  0.16711126,\n",
       "        -0.57363324, -0.06007161,  0.        , -0.4135263 , -0.43984232,\n",
       "         0.90540467, -0.42125169,  0.76224771,  0.31691713,  0.37018015,\n",
       "         1.37575716,  1.36262013, -2.17280574, -2.1238362 , -0.73432112,\n",
       "        -0.73417134, -0.734319  , -1.07819012, -0.47194215, -0.07347681,\n",
       "         1.09225925,  0.38658876, -0.03117456,  0.09405998,  1.01980882,\n",
       "         0.25861684,  0.1622121 ,  0.03058632,  0.16756448,  0.09675851,\n",
       "        -0.77457719,  1.68736694,  0.23988691,  0.51286212,  0.45267857,\n",
       "         0.13043321,  0.07320869,  0.41830252,  0.18513919, -0.02528888,\n",
       "        -0.21765675, -0.72464251, -0.76471864, -0.47572748, -0.36987819,\n",
       "        -0.05090054,  0.        ,  0.51748158,  1.63717318, -0.1620439 ,\n",
       "         0.49450084, -0.47644821, -0.2504705 ,  0.02833648,  0.        ,\n",
       "         0.97244311, -0.19840816, -0.03454754, -0.82406918,  0.18268267,\n",
       "        -0.22688781,  0.08226768, -0.23378085, -0.28770103,  1.13010188,\n",
       "        -0.34569688, -0.6877972 , -0.37316126, -0.22156626, -0.20953318,\n",
       "        -0.35796079,  2.95134882,  1.05064833,  0.3925115 , -0.09050734,\n",
       "         1.2102968 , -0.89914457,  0.81490145, -0.755626  ,  0.81485406,\n",
       "         1.32448898,  1.5166593 , -1.2283858 ,  0.        ,  0.        ,\n",
       "        -0.15284014, -0.2867201 , -0.88810714, -0.70607033, -0.42766006,\n",
       "        -0.06971926,  0.        , -0.619155  , -0.09752817,  0.        ,\n",
       "         0.        ,  0.        ,  0.        ,  0.        ,  0.        ,\n",
       "        -0.21871038, -0.13572201,  0.04567535, -0.44870152, -0.38284288,\n",
       "         0.22845456, -0.25093493, -0.16039887, -0.29546569, -0.05658776,\n",
       "        -0.04297651, -0.02526993, -0.04445657, -0.01289463, -0.02526993,\n",
       "        -0.42903395, -0.79120183,  1.33485896,  0.24994423, -0.38632219,\n",
       "         1.64713141, -0.08370065, -0.61902611,  2.1239996 ,  1.48524903,\n",
       "        -0.39982796, -0.01792228, -0.08621746, -0.60576061, -0.50189594,\n",
       "         1.09190526,  0.        ,  0.10210394,  0.32346434,  0.        ,\n",
       "         0.        ,  0.        ,  0.        ,  0.        ,  0.        ,\n",
       "         0.        ,  0.        ,  0.        ,  0.24326082,  0.98736756,\n",
       "         0.        ,  0.        ,  0.        ,  0.        , -0.04023278,\n",
       "        -0.22499324, -0.23213987, -0.51822219,  0.01074336, -0.06756544,\n",
       "         0.87140095, -0.08768727, -0.02660816, -0.11086937, -1.18774644,\n",
       "         0.80345207,  0.        ,  0.        ,  0.        ,  0.        ,\n",
       "         0.        ,  0.        ,  0.        ,  0.        ,  0.        ,\n",
       "         0.        ,  0.        , -0.05090465, -0.13349794,  0.90516581,\n",
       "        -0.15806348, -0.90115507, -0.63110892,  0.38591123, -0.42524558,\n",
       "        -0.05086418,  0.        ,  0.48075715,  1.68607673, -0.40371015,\n",
       "         0.41320998,  0.2201109 , -0.24137598,  0.09160999,  0.        ,\n",
       "         0.37319689, -0.20732427, -0.03354048, -0.8225576 ,  0.41902446,\n",
       "        -0.21072008,  0.13600942, -0.23938287, -0.28567652,  1.20415704,\n",
       "        -0.32110303, -0.70113585, -0.38773375, -0.24489269, -0.20953471,\n",
       "        -0.29197031,  3.37437258,  1.40244152,  0.86542922, -0.37256346,\n",
       "         0.85300448, -0.75125986,  0.79809413, -1.08973594,  0.79801211,\n",
       "         1.44286005,  1.42361855, -1.17251806,  0.        ,  0.        ,\n",
       "         0.        , -0.53110309, -0.5204238 , -0.67952252, -0.73667752,\n",
       "        -0.32234735,  0.00459136,  0.        , -0.78236013, -0.08154801,\n",
       "         0.        ,  0.        ,  0.        ,  0.        ,  0.        ,\n",
       "         0.        , -0.26502955, -0.11112175, -0.03644963, -0.36698999,\n",
       "        -0.30161974, -0.26730517, -0.21218901, -0.12608819, -0.21658046,\n",
       "        -0.05575208,  0.00703339, -0.02526993, -0.13943964,  0.27806856,\n",
       "         0.25934059,  0.14303421, -0.02526993, -0.8169075 , -0.69902738,\n",
       "         1.12139898,  0.24951591, -0.59102694,  1.89356913, -0.01282905,\n",
       "        -0.67968793,  1.89842358,  1.20226147, -0.40442985, -0.03363418,\n",
       "        -0.09726169, -0.68241753, -0.49625648,  1.43215831,  0.        ,\n",
       "         0.60456202,  0.79290079, -0.68766682, -0.1229119 ,  0.        ,\n",
       "         0.        ,  0.        ,  0.        ,  0.        ,  0.        ,\n",
       "         0.        ,  0.18851658,  0.70564814,  0.        ,  0.        ,\n",
       "         0.        ,  0.        , -0.04038819, -0.2272877 , -0.22843362,\n",
       "        -0.516909  ,  0.02061647, -0.06801614,  1.10236058, -0.08790493,\n",
       "        -0.02295124,  0.04573395, -1.19569122,  0.6305427 ,  0.        ,\n",
       "         0.        ,  0.        ,  0.        ,  0.        ,  0.        ,\n",
       "         0.        ,  0.        ,  0.        ,  0.        ,  0.        ,\n",
       "         0.08454336, -0.36840616,  0.33383717, -0.19754534, -0.73575092,\n",
       "        -0.7099787 , -0.36510507, -0.20305634, -0.088118  ,  0.        ,\n",
       "         0.33629917,  1.57694937, -0.11268937,  0.25021466, -0.94879854,\n",
       "        -0.23460879,  0.05296178,  0.        ,  0.27953635, -0.21741292,\n",
       "        -0.13935055, -0.80687603,  0.18487966, -0.20725213,  0.07252167,\n",
       "         0.45124094, -0.24065257, -0.55199205, -0.01007256, -0.18153742,\n",
       "        -0.1590898 , -0.17558422,  2.59552333,  0.98188636,  0.15873654,\n",
       "        -0.07730011,  1.32949661, -0.9239763 ,  0.82897629, -0.69383282,\n",
       "         0.79746136,  1.35746358,  1.50388762, -1.23652469,  0.        ,\n",
       "         0.        ,  0.        , -0.07205692, -0.33479286, -0.7202935 ,\n",
       "        -0.61014271, -0.64579111, -0.13309123,  0.        , -0.60430183,\n",
       "        -0.79681083,  0.        ,  0.        ,  0.        ,  0.        ,\n",
       "         0.        ,  0.        , -0.23063918, -0.14799286,  0.07698684,\n",
       "        -0.47856172, -0.47122443, -0.10986818,  0.00633507, -0.18219294,\n",
       "        -0.24770931, -0.05090064, -0.05856279, -0.02526993, -0.02204964,\n",
       "         0.88678073,  0.        , -1.11386408, -0.4141171 , -0.40420782,\n",
       "         2.11312256,  0.14175683, -0.89526758, -1.36835234,  2.52177137,\n",
       "         1.99724717,  1.42425852, -0.39988391, -0.01884315, -0.08328059,\n",
       "        -0.63315096, -0.63140266,  0.91618154,  0.        ,  0.82516688,\n",
       "         0.65833933,  0.        ,  0.        ,  0.        ,  0.        ,\n",
       "         0.        ,  0.        ,  0.        ,  0.        ,  0.        ,\n",
       "         0.09683466, -0.83651076,  0.        ,  0.        ,  0.        ,\n",
       "         0.        , -0.03724925, -0.20248156, -0.21680274, -0.48916317,\n",
       "         0.0067714 , -0.11262072,  0.69024477, -0.08511205, -0.03229353,\n",
       "        -0.10359338, -1.1735018 ,  0.79168849,  0.        ,  0.        ,\n",
       "         0.        ,  0.        ,  0.        ,  0.        ,  0.        ,\n",
       "         0.        ,  0.        ,  0.        ,  0.        , -0.10422398,\n",
       "        -0.15361192,  0.93870628, -0.84353222,  0.02558139, -0.01944294,\n",
       "         0.24850259, -0.72848426,  0.46336375,  0.32683597, -0.72677656,\n",
       "         0.53167905, -0.29186686, -0.72612443,  0.74469013, -0.30105904,\n",
       "        -0.8623945 ,  0.50889893, -0.25925984, -0.22372288,  1.50870125,\n",
       "         0.89191869,  1.69755946,  0.31812547,  0.64726644,  0.83553955,\n",
       "         1.14409097,  0.86107198,  0.9759398 ,  0.97335257,  1.05511042,\n",
       "         0.2072908 ,  0.91469706, -0.23216075,  0.06024006, -0.23137325,\n",
       "         0.17221374, -0.23572085, -0.10561918,  1.43499538,  0.93662325,\n",
       "         0.90527765,  0.29317856, -0.16644501, -0.16350819, -0.28072115,\n",
       "        -0.15726401,  0.44937618, -0.03000435, -0.06274058, -0.42214723]])"
      ]
     },
     "execution_count": 80,
     "metadata": {},
     "output_type": "execute_result"
    }
   ],
   "source": [
    "Xgb"
   ]
  },
  {
   "cell_type": "code",
   "execution_count": 81,
   "id": "93f9bf55",
   "metadata": {},
   "outputs": [
    {
     "data": {
      "text/plain": [
       "55.33182535516758"
      ]
     },
     "execution_count": 81,
     "metadata": {},
     "output_type": "execute_result"
    }
   ],
   "source": [
    "fitness[s]"
   ]
  },
  {
   "cell_type": "code",
   "execution_count": 82,
   "id": "97cb1cc7",
   "metadata": {},
   "outputs": [],
   "source": [
    "# Best feature subset\n",
    "Gbin       = binary_conversion(Xgb, thres, 1, dim) \n",
    "Gbin       = Gbin.reshape(dim)\n",
    "pos        = np.asarray(range(0, dim))    \n",
    "sel_index  = pos[Gbin == 1]\n",
    "num_feat   = len(sel_index)\n",
    "# Create dictionary\n",
    "opt_data = {'sf': sel_index, 'nf': num_feat}"
   ]
  },
  {
   "cell_type": "code",
   "execution_count": 83,
   "id": "8c043fcf",
   "metadata": {},
   "outputs": [
    {
     "name": "stdout",
     "output_type": "stream",
     "text": [
      "[0 0 0 0 0 0 1 0 0 0 0 0 0 0 1 0 0 0 0 0 0 0 0 0 0 1 0 1 1 0 0 0 0 0 0 0 0\n",
      " 0 0 0 1 0 0 0 1 0 0 1 1 0 0 1 0 0 0 0 0 0 1 0 0 0 0 0 0 0 0 0 0 0 0 0 1 1\n",
      " 0 0 0 1 0 0 1 1 0 0 0 0 0 0 1 0 0 0 0 0 0 0 0 0 0 0 1 0 1 0 0 1 1 0 0 0 0\n",
      " 0 0 0 0 1 0 0 0 1 0 0 0 0 0 0 1 0 1 0 0 0 0 0 0 0 0 0 0 0 0 0 1 1 0 0 0 0\n",
      " 0 0 1 0 0 0 0 0 0 0 0 1 0 0 0 0 0 0 1 1 0 0 1 0 1 0 1 1 1 0 0 0 0 0 0 0 0\n",
      " 0 0 0 0 0 0 0 0 0 0 0 0 0 0 0 0 0 0 0 0 0 0 0 0 0 0 0 1 0 0 1 0 0 1 1 0 0\n",
      " 0 0 0 1 0 0 0 0 0 0 0 0 0 0 0 0 0 1 0 0 0 0 0 0 0 0 0 0 1 0 0 0 0 1 0 0 0\n",
      " 0 0 0 0 0 0 0 0 0 0 1 0 0 0 0 0 0 0 0 1 0 0 0 0 0 0 0 0 0 0 0 0 0 0 0 1 0\n",
      " 0 0 0 0 0 1 1 1 0 1 0 1 0 1 1 1 0 0 0 0 0 0 0 0 0 0 0 0 0 0 0 0 0 0 0 0 0\n",
      " 0 0 0 0 0 0 0 0 0 0 0 0 0 0 0 0 0 1 0 0 1 0 0 1 1 0 0 0 0 0 1 0 1 1 0 0 0\n",
      " 0 0 0 0 0 0 0 1 0 0 0 0 0 0 0 0 0 0 1 0 0 0 0 1 0 0 0 0 0 0 0 0 0 0 0 0 0\n",
      " 0 0 0 0 0 0 0 0 0 1 0 0 0 0 0 0 0 0 0 0 0 0 0 0 0 0 0 0 0 0 1 1 0 0 1 0 1\n",
      " 0 1 1 1 0 0 0 0 0 0 0 0 0 0 0 0 0 0 0 0 0 0 0 0 0 0 0 0 0 0 0 0 0 0 0 0 1\n",
      " 0 0 0 0 1 0 0 0 1 1 1 0 0 0 0 0 1 0 1 1 0 0 0 0 0 0 0 0 0 0 0 0 0 0 0 0 0\n",
      " 0 0 0 0 1 0 0 0 0 1 0 0 0 0 0 0 0 0 0 0 0 0 0 1 0 0 0 0 0 0 0 0 1 0 0 1 0\n",
      " 0 1 0 0 1 1 1 0 1 1 1 1 1 1 1 0 1 0 0 0 0 0 0 1 1 1 0 0 0 0 0 0 0 0 0]\n",
      "[  0   1   2   3   4   5   6   7   8   9  10  11  12  13  14  15  16  17\n",
      "  18  19  20  21  22  23  24  25  26  27  28  29  30  31  32  33  34  35\n",
      "  36  37  38  39  40  41  42  43  44  45  46  47  48  49  50  51  52  53\n",
      "  54  55  56  57  58  59  60  61  62  63  64  65  66  67  68  69  70  71\n",
      "  72  73  74  75  76  77  78  79  80  81  82  83  84  85  86  87  88  89\n",
      "  90  91  92  93  94  95  96  97  98  99 100 101 102 103 104 105 106 107\n",
      " 108 109 110 111 112 113 114 115 116 117 118 119 120 121 122 123 124 125\n",
      " 126 127 128 129 130 131 132 133 134 135 136 137 138 139 140 141 142 143\n",
      " 144 145 146 147 148 149 150 151 152 153 154 155 156 157 158 159 160 161\n",
      " 162 163 164 165 166 167 168 169 170 171 172 173 174 175 176 177 178 179\n",
      " 180 181 182 183 184 185 186 187 188 189 190 191 192 193 194 195 196 197\n",
      " 198 199 200 201 202 203 204 205 206 207 208 209 210 211 212 213 214 215\n",
      " 216 217 218 219 220 221 222 223 224 225 226 227 228 229 230 231 232 233\n",
      " 234 235 236 237 238 239 240 241 242 243 244 245 246 247 248 249 250 251\n",
      " 252 253 254 255 256 257 258 259 260 261 262 263 264 265 266 267 268 269\n",
      " 270 271 272 273 274 275 276 277 278 279 280 281 282 283 284 285 286 287\n",
      " 288 289 290 291 292 293 294 295 296 297 298 299 300 301 302 303 304 305\n",
      " 306 307 308 309 310 311 312 313 314 315 316 317 318 319 320 321 322 323\n",
      " 324 325 326 327 328 329 330 331 332 333 334 335 336 337 338 339 340 341\n",
      " 342 343 344 345 346 347 348 349 350 351 352 353 354 355 356 357 358 359\n",
      " 360 361 362 363 364 365 366 367 368 369 370 371 372 373 374 375 376 377\n",
      " 378 379 380 381 382 383 384 385 386 387 388 389 390 391 392 393 394 395\n",
      " 396 397 398 399 400 401 402 403 404 405 406 407 408 409 410 411 412 413\n",
      " 414 415 416 417 418 419 420 421 422 423 424 425 426 427 428 429 430 431\n",
      " 432 433 434 435 436 437 438 439 440 441 442 443 444 445 446 447 448 449\n",
      " 450 451 452 453 454 455 456 457 458 459 460 461 462 463 464 465 466 467\n",
      " 468 469 470 471 472 473 474 475 476 477 478 479 480 481 482 483 484 485\n",
      " 486 487 488 489 490 491 492 493 494 495 496 497 498 499 500 501 502 503\n",
      " 504 505 506 507 508 509 510 511 512 513 514 515 516 517 518 519 520 521\n",
      " 522 523 524 525 526 527 528 529 530 531 532 533 534 535 536 537 538 539\n",
      " 540 541 542 543 544 545 546 547 548 549 550 551 552 553 554 555 556 557\n",
      " 558 559 560 561 562 563 564 565 566 567 568 569 570 571 572 573 574 575\n",
      " 576 577 578 579 580 581 582 583 584 585 586 587 588 589]\n",
      "[  6  14  25  27  28  40  44  47  48  51  58  72  73  77  80  81  88 100\n",
      " 102 105 106 115 119 126 128 142 143 150 159 166 167 170 172 174 175 176\n",
      " 212 215 218 219 225 239 250 255 269 278 294 301 302 303 305 307 309 310\n",
      " 311 350 353 356 357 363 365 366 377 388 393 416 437 438 441 443 445 446\n",
      " 447 480 485 489 490 491 497 499 500 522 527 541 550 553 556 559 560 561\n",
      " 563 564 565 566 567 568 569 571 578 579 580]\n",
      "101\n"
     ]
    }
   ],
   "source": [
    "print(Gbin)\n",
    "print(pos)\n",
    "print(sel_index)\n",
    "print(num_feat)"
   ]
  },
  {
   "cell_type": "code",
   "execution_count": 84,
   "id": "2bbb6a29",
   "metadata": {},
   "outputs": [
    {
     "data": {
      "text/plain": [
       "array([  6,  14,  25,  27,  28,  40,  44,  47,  48,  51,  58,  72,  73,\n",
       "        77,  80,  81,  88, 100, 102, 105, 106, 115, 119, 126, 128, 142,\n",
       "       143, 150, 159, 166, 167, 170, 172, 174, 175, 176, 212, 215, 218,\n",
       "       219, 225, 239, 250, 255, 269, 278, 294, 301, 302, 303, 305, 307,\n",
       "       309, 310, 311, 350, 353, 356, 357, 363, 365, 366, 377, 388, 393,\n",
       "       416, 437, 438, 441, 443, 445, 446, 447, 480, 485, 489, 490, 491,\n",
       "       497, 499, 500, 522, 527, 541, 550, 553, 556, 559, 560, 561, 563,\n",
       "       564, 565, 566, 567, 568, 569, 571, 578, 579, 580])"
      ]
     },
     "execution_count": 84,
     "metadata": {},
     "output_type": "execute_result"
    }
   ],
   "source": [
    "opt_data['sf']"
   ]
  },
  {
   "cell_type": "code",
   "execution_count": 85,
   "id": "dc4d1bca",
   "metadata": {},
   "outputs": [],
   "source": [
    "new_data = data.iloc[:,opt_data['sf']]"
   ]
  },
  {
   "cell_type": "code",
   "execution_count": 86,
   "id": "f7547359",
   "metadata": {},
   "outputs": [
    {
     "data": {
      "text/html": [
       "<div>\n",
       "<style scoped>\n",
       "    .dataframe tbody tr th:only-of-type {\n",
       "        vertical-align: middle;\n",
       "    }\n",
       "\n",
       "    .dataframe tbody tr th {\n",
       "        vertical-align: top;\n",
       "    }\n",
       "\n",
       "    .dataframe thead th {\n",
       "        text-align: right;\n",
       "    }\n",
       "</style>\n",
       "<table border=\"1\" class=\"dataframe\">\n",
       "  <thead>\n",
       "    <tr style=\"text-align: right;\">\n",
       "      <th></th>\n",
       "      <th>5</th>\n",
       "      <th>13</th>\n",
       "      <th>24</th>\n",
       "      <th>26</th>\n",
       "      <th>27</th>\n",
       "      <th>39</th>\n",
       "      <th>43</th>\n",
       "      <th>46</th>\n",
       "      <th>47</th>\n",
       "      <th>50</th>\n",
       "      <th>...</th>\n",
       "      <th>563</th>\n",
       "      <th>564</th>\n",
       "      <th>565</th>\n",
       "      <th>566</th>\n",
       "      <th>567</th>\n",
       "      <th>568</th>\n",
       "      <th>570</th>\n",
       "      <th>577</th>\n",
       "      <th>578</th>\n",
       "      <th>579</th>\n",
       "    </tr>\n",
       "  </thead>\n",
       "  <tbody>\n",
       "    <tr>\n",
       "      <th>0</th>\n",
       "      <td>100.0</td>\n",
       "      <td>0.0</td>\n",
       "      <td>751.00</td>\n",
       "      <td>1.7730</td>\n",
       "      <td>3.0490</td>\n",
       "      <td>117.5132</td>\n",
       "      <td>352.7173</td>\n",
       "      <td>723.3092</td>\n",
       "      <td>1.3072</td>\n",
       "      <td>624.3145</td>\n",
       "      <td>...</td>\n",
       "      <td>0.0000</td>\n",
       "      <td>0.00</td>\n",
       "      <td>0.0000</td>\n",
       "      <td>0.0000</td>\n",
       "      <td>0.0000</td>\n",
       "      <td>0.0000</td>\n",
       "      <td>533.8500</td>\n",
       "      <td>14.9509</td>\n",
       "      <td>0.0000</td>\n",
       "      <td>0.0000</td>\n",
       "    </tr>\n",
       "    <tr>\n",
       "      <th>1</th>\n",
       "      <td>100.0</td>\n",
       "      <td>0.0</td>\n",
       "      <td>-1640.25</td>\n",
       "      <td>2.0143</td>\n",
       "      <td>7.3900</td>\n",
       "      <td>118.1188</td>\n",
       "      <td>352.2445</td>\n",
       "      <td>724.8264</td>\n",
       "      <td>1.2887</td>\n",
       "      <td>631.2618</td>\n",
       "      <td>...</td>\n",
       "      <td>0.0000</td>\n",
       "      <td>0.00</td>\n",
       "      <td>0.0000</td>\n",
       "      <td>0.0000</td>\n",
       "      <td>0.0000</td>\n",
       "      <td>0.0000</td>\n",
       "      <td>535.0164</td>\n",
       "      <td>10.9003</td>\n",
       "      <td>0.0096</td>\n",
       "      <td>0.0201</td>\n",
       "    </tr>\n",
       "    <tr>\n",
       "      <th>2</th>\n",
       "      <td>100.0</td>\n",
       "      <td>0.0</td>\n",
       "      <td>-1916.50</td>\n",
       "      <td>2.0295</td>\n",
       "      <td>7.5788</td>\n",
       "      <td>118.6128</td>\n",
       "      <td>364.3782</td>\n",
       "      <td>734.7924</td>\n",
       "      <td>1.2992</td>\n",
       "      <td>637.2655</td>\n",
       "      <td>...</td>\n",
       "      <td>0.9032</td>\n",
       "      <td>1.10</td>\n",
       "      <td>0.6219</td>\n",
       "      <td>0.4122</td>\n",
       "      <td>0.2562</td>\n",
       "      <td>0.4119</td>\n",
       "      <td>535.0245</td>\n",
       "      <td>9.2721</td>\n",
       "      <td>0.0584</td>\n",
       "      <td>0.0484</td>\n",
       "    </tr>\n",
       "    <tr>\n",
       "      <th>3</th>\n",
       "      <td>100.0</td>\n",
       "      <td>0.0</td>\n",
       "      <td>-1657.25</td>\n",
       "      <td>2.0038</td>\n",
       "      <td>7.3145</td>\n",
       "      <td>117.0442</td>\n",
       "      <td>363.0273</td>\n",
       "      <td>733.8778</td>\n",
       "      <td>1.3027</td>\n",
       "      <td>637.3727</td>\n",
       "      <td>...</td>\n",
       "      <td>0.6511</td>\n",
       "      <td>7.32</td>\n",
       "      <td>0.1630</td>\n",
       "      <td>3.5611</td>\n",
       "      <td>0.0670</td>\n",
       "      <td>2.7290</td>\n",
       "      <td>530.5682</td>\n",
       "      <td>8.5831</td>\n",
       "      <td>0.0202</td>\n",
       "      <td>0.0149</td>\n",
       "    </tr>\n",
       "    <tr>\n",
       "      <th>4</th>\n",
       "      <td>100.0</td>\n",
       "      <td>0.0</td>\n",
       "      <td>117.00</td>\n",
       "      <td>1.9912</td>\n",
       "      <td>7.2748</td>\n",
       "      <td>121.4364</td>\n",
       "      <td>353.3400</td>\n",
       "      <td>789.7523</td>\n",
       "      <td>1.0341</td>\n",
       "      <td>667.7418</td>\n",
       "      <td>...</td>\n",
       "      <td>0.0000</td>\n",
       "      <td>0.00</td>\n",
       "      <td>0.0000</td>\n",
       "      <td>0.0000</td>\n",
       "      <td>0.0000</td>\n",
       "      <td>0.0000</td>\n",
       "      <td>532.0155</td>\n",
       "      <td>10.9698</td>\n",
       "      <td>0.0000</td>\n",
       "      <td>0.0000</td>\n",
       "    </tr>\n",
       "    <tr>\n",
       "      <th>...</th>\n",
       "      <td>...</td>\n",
       "      <td>...</td>\n",
       "      <td>...</td>\n",
       "      <td>...</td>\n",
       "      <td>...</td>\n",
       "      <td>...</td>\n",
       "      <td>...</td>\n",
       "      <td>...</td>\n",
       "      <td>...</td>\n",
       "      <td>...</td>\n",
       "      <td>...</td>\n",
       "      <td>...</td>\n",
       "      <td>...</td>\n",
       "      <td>...</td>\n",
       "      <td>...</td>\n",
       "      <td>...</td>\n",
       "      <td>...</td>\n",
       "      <td>...</td>\n",
       "      <td>...</td>\n",
       "      <td>...</td>\n",
       "      <td>...</td>\n",
       "    </tr>\n",
       "    <tr>\n",
       "      <th>1562</th>\n",
       "      <td>100.0</td>\n",
       "      <td>0.0</td>\n",
       "      <td>356.00</td>\n",
       "      <td>1.9540</td>\n",
       "      <td>7.0793</td>\n",
       "      <td>120.5156</td>\n",
       "      <td>369.9009</td>\n",
       "      <td>739.6150</td>\n",
       "      <td>1.0736</td>\n",
       "      <td>636.6018</td>\n",
       "      <td>...</td>\n",
       "      <td>0.5671</td>\n",
       "      <td>4.98</td>\n",
       "      <td>0.0877</td>\n",
       "      <td>2.0902</td>\n",
       "      <td>0.0382</td>\n",
       "      <td>1.8844</td>\n",
       "      <td>536.3418</td>\n",
       "      <td>11.7256</td>\n",
       "      <td>0.0068</td>\n",
       "      <td>0.0138</td>\n",
       "    </tr>\n",
       "    <tr>\n",
       "      <th>1563</th>\n",
       "      <td>100.0</td>\n",
       "      <td>0.0</td>\n",
       "      <td>339.00</td>\n",
       "      <td>1.8023</td>\n",
       "      <td>5.1515</td>\n",
       "      <td>120.2552</td>\n",
       "      <td>351.4055</td>\n",
       "      <td>745.4058</td>\n",
       "      <td>0.8566</td>\n",
       "      <td>635.3809</td>\n",
       "      <td>...</td>\n",
       "      <td>0.6254</td>\n",
       "      <td>4.56</td>\n",
       "      <td>0.1308</td>\n",
       "      <td>1.7420</td>\n",
       "      <td>0.0495</td>\n",
       "      <td>1.7089</td>\n",
       "      <td>537.9264</td>\n",
       "      <td>17.8379</td>\n",
       "      <td>0.0000</td>\n",
       "      <td>0.0000</td>\n",
       "    </tr>\n",
       "    <tr>\n",
       "      <th>1564</th>\n",
       "      <td>100.0</td>\n",
       "      <td>0.0</td>\n",
       "      <td>-1226.00</td>\n",
       "      <td>1.9435</td>\n",
       "      <td>7.2315</td>\n",
       "      <td>117.8912</td>\n",
       "      <td>350.3145</td>\n",
       "      <td>724.8053</td>\n",
       "      <td>1.3337</td>\n",
       "      <td>628.0573</td>\n",
       "      <td>...</td>\n",
       "      <td>0.8209</td>\n",
       "      <td>11.09</td>\n",
       "      <td>0.2388</td>\n",
       "      <td>4.4128</td>\n",
       "      <td>0.0965</td>\n",
       "      <td>4.3197</td>\n",
       "      <td>530.3709</td>\n",
       "      <td>17.7267</td>\n",
       "      <td>0.0197</td>\n",
       "      <td>0.0086</td>\n",
       "    </tr>\n",
       "    <tr>\n",
       "      <th>1565</th>\n",
       "      <td>100.0</td>\n",
       "      <td>0.0</td>\n",
       "      <td>394.75</td>\n",
       "      <td>1.9880</td>\n",
       "      <td>7.3255</td>\n",
       "      <td>118.9288</td>\n",
       "      <td>370.5845</td>\n",
       "      <td>738.7740</td>\n",
       "      <td>1.0855</td>\n",
       "      <td>639.9136</td>\n",
       "      <td>...</td>\n",
       "      <td>0.5671</td>\n",
       "      <td>4.98</td>\n",
       "      <td>0.0877</td>\n",
       "      <td>2.0902</td>\n",
       "      <td>0.0382</td>\n",
       "      <td>1.8844</td>\n",
       "      <td>534.3936</td>\n",
       "      <td>19.2104</td>\n",
       "      <td>0.0262</td>\n",
       "      <td>0.0245</td>\n",
       "    </tr>\n",
       "    <tr>\n",
       "      <th>1566</th>\n",
       "      <td>100.0</td>\n",
       "      <td>0.0</td>\n",
       "      <td>-425.00</td>\n",
       "      <td>2.0085</td>\n",
       "      <td>7.3395</td>\n",
       "      <td>120.5418</td>\n",
       "      <td>362.8100</td>\n",
       "      <td>749.5107</td>\n",
       "      <td>0.8728</td>\n",
       "      <td>639.2764</td>\n",
       "      <td>...</td>\n",
       "      <td>0.6193</td>\n",
       "      <td>8.42</td>\n",
       "      <td>0.1307</td>\n",
       "      <td>3.0894</td>\n",
       "      <td>0.0493</td>\n",
       "      <td>3.2639</td>\n",
       "      <td>528.7918</td>\n",
       "      <td>22.9183</td>\n",
       "      <td>0.0117</td>\n",
       "      <td>0.0162</td>\n",
       "    </tr>\n",
       "  </tbody>\n",
       "</table>\n",
       "<p>1567 rows × 101 columns</p>\n",
       "</div>"
      ],
      "text/plain": [
       "          5   13       24      26      27        39        43        46  \\\n",
       "0     100.0  0.0   751.00  1.7730  3.0490  117.5132  352.7173  723.3092   \n",
       "1     100.0  0.0 -1640.25  2.0143  7.3900  118.1188  352.2445  724.8264   \n",
       "2     100.0  0.0 -1916.50  2.0295  7.5788  118.6128  364.3782  734.7924   \n",
       "3     100.0  0.0 -1657.25  2.0038  7.3145  117.0442  363.0273  733.8778   \n",
       "4     100.0  0.0   117.00  1.9912  7.2748  121.4364  353.3400  789.7523   \n",
       "...     ...  ...      ...     ...     ...       ...       ...       ...   \n",
       "1562  100.0  0.0   356.00  1.9540  7.0793  120.5156  369.9009  739.6150   \n",
       "1563  100.0  0.0   339.00  1.8023  5.1515  120.2552  351.4055  745.4058   \n",
       "1564  100.0  0.0 -1226.00  1.9435  7.2315  117.8912  350.3145  724.8053   \n",
       "1565  100.0  0.0   394.75  1.9880  7.3255  118.9288  370.5845  738.7740   \n",
       "1566  100.0  0.0  -425.00  2.0085  7.3395  120.5418  362.8100  749.5107   \n",
       "\n",
       "          47        50  ...     563    564     565     566     567     568  \\\n",
       "0     1.3072  624.3145  ...  0.0000   0.00  0.0000  0.0000  0.0000  0.0000   \n",
       "1     1.2887  631.2618  ...  0.0000   0.00  0.0000  0.0000  0.0000  0.0000   \n",
       "2     1.2992  637.2655  ...  0.9032   1.10  0.6219  0.4122  0.2562  0.4119   \n",
       "3     1.3027  637.3727  ...  0.6511   7.32  0.1630  3.5611  0.0670  2.7290   \n",
       "4     1.0341  667.7418  ...  0.0000   0.00  0.0000  0.0000  0.0000  0.0000   \n",
       "...      ...       ...  ...     ...    ...     ...     ...     ...     ...   \n",
       "1562  1.0736  636.6018  ...  0.5671   4.98  0.0877  2.0902  0.0382  1.8844   \n",
       "1563  0.8566  635.3809  ...  0.6254   4.56  0.1308  1.7420  0.0495  1.7089   \n",
       "1564  1.3337  628.0573  ...  0.8209  11.09  0.2388  4.4128  0.0965  4.3197   \n",
       "1565  1.0855  639.9136  ...  0.5671   4.98  0.0877  2.0902  0.0382  1.8844   \n",
       "1566  0.8728  639.2764  ...  0.6193   8.42  0.1307  3.0894  0.0493  3.2639   \n",
       "\n",
       "           570      577     578     579  \n",
       "0     533.8500  14.9509  0.0000  0.0000  \n",
       "1     535.0164  10.9003  0.0096  0.0201  \n",
       "2     535.0245   9.2721  0.0584  0.0484  \n",
       "3     530.5682   8.5831  0.0202  0.0149  \n",
       "4     532.0155  10.9698  0.0000  0.0000  \n",
       "...        ...      ...     ...     ...  \n",
       "1562  536.3418  11.7256  0.0068  0.0138  \n",
       "1563  537.9264  17.8379  0.0000  0.0000  \n",
       "1564  530.3709  17.7267  0.0197  0.0086  \n",
       "1565  534.3936  19.2104  0.0262  0.0245  \n",
       "1566  528.7918  22.9183  0.0117  0.0162  \n",
       "\n",
       "[1567 rows x 101 columns]"
      ]
     },
     "execution_count": 86,
     "metadata": {},
     "output_type": "execute_result"
    }
   ],
   "source": [
    "new_data"
   ]
  },
  {
   "cell_type": "markdown",
   "id": "bc59b73f",
   "metadata": {},
   "source": [
    "## Logistic Regression after Optimisation"
   ]
  },
  {
   "cell_type": "code",
   "execution_count": 89,
   "id": "0f89aea7",
   "metadata": {},
   "outputs": [
    {
     "name": "stdout",
     "output_type": "stream",
     "text": [
      "Shape of X_train: (1567, 101)\n",
      "Shape of y_train: (1567,)\n"
     ]
    },
    {
     "data": {
      "text/plain": [
       "0.9331210191082803"
      ]
     },
     "execution_count": 89,
     "metadata": {},
     "output_type": "execute_result"
    }
   ],
   "source": [
    "#feature variables\n",
    "X = new_data.values #.drop(['Time'], axis=1)\n",
    "X\n",
    "\n",
    "#target variable\n",
    "y = data['Swarm_Behaviour'].values\n",
    "y\n",
    "\n",
    "sc = StandardScaler()\n",
    "X = sc.fit_transform(X)\n",
    "\n",
    "X_train, X_test, y_train, y_test = train_test_split(X, y, test_size=0.20)\n",
    "\n",
    "print(\"Shape of X_train:\", X.shape)\n",
    "print(\"Shape of y_train:\", y.shape)\n",
    "\n",
    "lr1 = LogisticRegression(solver='lbfgs', max_iter=1000)\n",
    "lr1.fit(X_train, y_train)\n",
    "LogisticRegression()\n",
    "y_pred = lr1.predict(X_test)\n",
    "\n",
    "accuracy_score(y_pred, y_test)"
   ]
  },
  {
   "cell_type": "code",
   "execution_count": null,
   "id": "7083b203",
   "metadata": {},
   "outputs": [],
   "source": []
  },
  {
   "cell_type": "code",
   "execution_count": null,
   "id": "831f7a11",
   "metadata": {},
   "outputs": [],
   "source": []
  },
  {
   "cell_type": "code",
   "execution_count": null,
   "id": "e4a9873b",
   "metadata": {},
   "outputs": [],
   "source": []
  }
 ],
 "metadata": {
  "kernelspec": {
   "display_name": "Python 3 (ipykernel)",
   "language": "python",
   "name": "python3"
  },
  "language_info": {
   "codemirror_mode": {
    "name": "ipython",
    "version": 3
   },
   "file_extension": ".py",
   "mimetype": "text/x-python",
   "name": "python",
   "nbconvert_exporter": "python",
   "pygments_lexer": "ipython3",
   "version": "3.9.12"
  }
 },
 "nbformat": 4,
 "nbformat_minor": 5
}
